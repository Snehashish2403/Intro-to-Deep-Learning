{
 "cells": [
  {
   "cell_type": "markdown",
   "id": "61a2175d",
   "metadata": {},
   "source": [
    "# Lists,Tuples and Dictionaries"
   ]
  },
  {
   "cell_type": "code",
   "execution_count": 3,
   "id": "a459489e",
   "metadata": {},
   "outputs": [
    {
     "name": "stdout",
     "output_type": "stream",
     "text": [
      "100.0\n"
     ]
    }
   ],
   "source": [
    "mylist=[1,2,3,4] #lists\n",
    "studgrade={\"Sneh\":100,\"Foo\":100,\"Karma\":100} #dictionaries\n",
    "grades=(1,2,3,4) #tuples\n",
    "\n",
    "x=sum(studgrade.values())\n",
    "l=len(studgrade)\n",
    "mean=x/l\n",
    "print(mean)"
   ]
  },
  {
   "cell_type": "markdown",
   "id": "ed00c65e",
   "metadata": {},
   "source": [
    "# Functions"
   ]
  },
  {
   "cell_type": "code",
   "execution_count": 4,
   "id": "0e26b13b",
   "metadata": {},
   "outputs": [
    {
     "name": "stdout",
     "output_type": "stream",
     "text": [
      "2.5\n"
     ]
    }
   ],
   "source": [
    "def mean(mylist):\n",
    "    x=sum(mylist)/len(mylist)\n",
    "    return x\n",
    "\n",
    "print(mean([1,2,3,4]))"
   ]
  },
  {
   "cell_type": "markdown",
   "id": "7167b4af",
   "metadata": {},
   "source": [
    "# Loops"
   ]
  },
  {
   "cell_type": "code",
   "execution_count": 8,
   "id": "f158543e",
   "metadata": {
    "scrolled": true
   },
   "outputs": [
    {
     "name": "stdout",
     "output_type": "stream",
     "text": [
      "\n",
      "* \n",
      "* * \n",
      "* * * \n"
     ]
    }
   ],
   "source": [
    "for i in range(0,4):\n",
    "    for j in range(i):\n",
    "        print(\"*\",end=\" \")\n",
    "    print()\n",
    "    "
   ]
  },
  {
   "cell_type": "markdown",
   "id": "891fcdf7",
   "metadata": {},
   "source": [
    "# Using loops to iterate lists etc"
   ]
  },
  {
   "cell_type": "code",
   "execution_count": 17,
   "id": "3ef37242",
   "metadata": {},
   "outputs": [
    {
     "name": "stdout",
     "output_type": "stream",
     "text": [
      "1 is odd\n",
      "12 is even\n",
      "3 is odd\n",
      "5 is odd\n",
      "32 is even\n",
      "6 is even\n",
      "7989 is odd\n",
      "\n",
      "element number 0 is 1\n",
      "element number 1 is 12\n",
      "element number 2 is 3\n",
      "element number 3 is 5\n",
      "element number 4 is 32\n",
      "element number 5 is 6\n",
      "element number 6 is 7989\n",
      "\n",
      "('Manoj', 200)\n",
      "('Snehashish', 100)\n",
      "('Neel', 300)\n",
      "\n",
      "Manoj\n",
      "Snehashish\n",
      "Neel\n",
      "\n",
      "200\n",
      "100\n",
      "300\n"
     ]
    }
   ],
   "source": [
    "mylist=[1,12,3,5,32,6,7989]\n",
    "for i in mylist:\n",
    "    if(i%2==0):\n",
    "        print(i.__str__()+\" is even\")\n",
    "    else:\n",
    "        print(i.__str__()+\" is odd\")\n",
    "\n",
    "print()\n",
    "\n",
    "for i in range(0,len(mylist)):\n",
    "    print(\"element number \"+i.__str__()+\" is \"+mylist[i].__str__())\n",
    "\n",
    "print()\n",
    "\n",
    "mydict={\"Manoj\":200,\"Snehashish\":100,\"Neel\":300}\n",
    "#iterate over all items\n",
    "for items in mydict.items():\n",
    "    print(items)\n",
    "    \n",
    "print()\n",
    "#iterate over keys\n",
    "for items in mydict:\n",
    "    print(items)\n",
    "\n",
    "print()\n",
    "#iterate over values\n",
    "for items in mydict.values():\n",
    "    print(items)"
   ]
  },
  {
   "cell_type": "markdown",
   "id": "6dc6cfc6",
   "metadata": {},
   "source": [
    "# Take user input"
   ]
  },
  {
   "cell_type": "code",
   "execution_count": 22,
   "id": "82c6ebee",
   "metadata": {},
   "outputs": [
    {
     "name": "stdout",
     "output_type": "stream",
     "text": [
      "Enter first number: 10\n",
      "Enter second number: 20.55\n",
      "30.55\n"
     ]
    }
   ],
   "source": [
    "a=input(\"Enter first number: \")\n",
    "b=input(\"Enter second number: \")\n",
    "c=float(a)+float(b)\n",
    "print(c)"
   ]
  },
  {
   "cell_type": "code",
   "execution_count": null,
   "id": "509ada84",
   "metadata": {},
   "outputs": [],
   "source": []
  }
 ],
 "metadata": {
  "kernelspec": {
   "display_name": "Python 3 (ipykernel)",
   "language": "python",
   "name": "python3"
  },
  "language_info": {
   "codemirror_mode": {
    "name": "ipython",
    "version": 3
   },
   "file_extension": ".py",
   "mimetype": "text/x-python",
   "name": "python",
   "nbconvert_exporter": "python",
   "pygments_lexer": "ipython3",
   "version": "3.8.12"
  }
 },
 "nbformat": 4,
 "nbformat_minor": 5
}
