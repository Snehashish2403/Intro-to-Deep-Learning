{
 "cells": [
  {
   "cell_type": "code",
   "execution_count": 15,
   "id": "d40257e6",
   "metadata": {},
   "outputs": [
    {
     "data": {
      "text/plain": [
       "<matplotlib.image.AxesImage at 0x1ede91c3070>"
      ]
     },
     "execution_count": 15,
     "metadata": {},
     "output_type": "execute_result"
    },
    {
     "data": {
      "image/png": "[encoded data removed]",
      "text/plain": [
       "<Figure size 432x288 with 1 Axes>"
      ]
     },
     "metadata": {
      "needs_background": "light"
     },
     "output_type": "display_data"
    }
   ],
   "source": [
    "import matplotlib.image as mpimg\n",
    "import matplotlib.pyplot as plt\n",
    "import numpy as np\n",
    "import cv2\n",
    "%matplotlib inline\n",
    "\n",
    "image=cv2.imread(\"calendar.jpg\")\n",
    "\n",
    "cv2.imshow(\"Original Image\",image)\n",
    "cv2.waitKey(0)\n",
    "cv2.destroyAllWindows()\n",
    "\n",
    "plt.imshow(image)"
   ]
  },
  {
   "cell_type": "code",
   "execution_count": 16,
   "id": "e4a6658c",
   "metadata": {},
   "outputs": [
    {
     "data": {
      "text/plain": [
       "30"
      ]
     },
     "execution_count": 16,
     "metadata": {},
     "output_type": "execute_result"
    }
   ],
   "source": [
    "img_g=cv2.cvtColor(image,cv2.COLOR_BGR2GRAY)\n",
    "image_canny=cv2.Canny(img_g,50,200,apertureSize=3)\n",
    "\n",
    "cv2.imshow(\"Canny Image\",image_canny)\n",
    "cv2.waitKey(0)\n",
    "cv2.destroyAllWindows()\n",
    "\n",
    "lines=cv2.HoughLines(image_canny,1,np.pi/180,300)\n",
    "\n",
    "len(lines)"
   ]
  },
  {
   "cell_type": "code",
   "execution_count": 17,
   "id": "328aac1e",
   "metadata": {},
   "outputs": [],
   "source": [
    "if lines is not None:\n",
    "    for i in range(0,len(lines)):\n",
    "        rho=lines[i][0][0]\n",
    "        theta=lines[i][0][1]\n",
    "        \n",
    "        x0=rho*np.cos(theta)\n",
    "        y0=rho*np.sin(theta)\n",
    "        \n",
    "        a=np.cos(theta)\n",
    "        b=np.sin(theta)\n",
    "        \n",
    "        x1=int(x0+ 1000*(-b))\n",
    "        y1=int(y0+ 1000*(a))\n",
    "        x2=int(x0- 1000*(-b))\n",
    "        y2=int(y0- 1000*(a))\n",
    "        \n",
    "        cv2.line(image,(x1,y1),(x2,y2),(255,0,0),2)\n",
    "\n",
    "cv2.imshow(\"Canny Image\",image)\n",
    "cv2.waitKey(0)\n",
    "cv2.destroyAllWindows()"
   ]
  },
  {
   "cell_type": "code",
   "execution_count": null,
   "id": "90632962",
   "metadata": {},
   "outputs": [],
   "source": []
  }
 ],
 "metadata": {
  "kernelspec": {
   "display_name": "Python 3 (ipykernel)",
   "language": "python",
   "name": "python3"
  },
  "language_info": {
   "codemirror_mode": {
    "name": "ipython",
    "version": 3
   },
   "file_extension": ".py",
   "mimetype": "text/x-python",
   "name": "python",
   "nbconvert_exporter": "python",
   "pygments_lexer": "ipython3",
   "version": "3.8.12"
  }
 },
 "nbformat": 4,
 "nbformat_minor": 5
}
