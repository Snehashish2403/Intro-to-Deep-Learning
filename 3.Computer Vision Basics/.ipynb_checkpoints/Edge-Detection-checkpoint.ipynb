{
 "cells": [
  {
   "cell_type": "code",
   "execution_count": 10,
   "id": "2b0d6742",
   "metadata": {},
   "outputs": [],
   "source": [
    "import matplotlib.image as mpimg\n",
    "import matplotlib.pyplot as plt\n",
    "import numpy as np\n",
    "import cv2\n",
    "\n",
    "image=cv2.imread(\"Self_Driving_Car.jpg\")\n",
    "\n",
    "cv2.imshow(\"Self Driving Car!\",image)\n",
    "cv2.waitKey()\n",
    "cv2.destroyAllWindows()\n",
    "\n",
    "image.shape\n",
    "\n",
    "#Convert image to grayscale\n",
    "\n",
    "gray_img=cv2.cvtColor(image,cv2.COLOR_BGR2GRAY)\n",
    "cv2.imshow(\"Self Driving Car!(Gray)\",gray_img)\n",
    "cv2.waitKey()\n",
    "cv2.destroyAllWindows()\n",
    "\n",
    "sharp_kernel1=np.array([[0,-1,0],\n",
    "                      [-1,5,-1],\n",
    "                      [0,-1,0]])\n",
    "\n",
    "sharp_kernel2=np.array([[-1,-1,-1],\n",
    "                      [-1,9,-1],\n",
    "                      [-1,-1,-1]])\n",
    "\n",
    "sharp_image=cv2.filter2D(gray_img,-1,sharp_kernel2)\n",
    "cv2.imshow(\"Self Driving Car!(Sharpened)\",sharp_image)\n",
    "cv2.waitKey()\n",
    "cv2.destroyAllWindows()"
   ]
  },
  {
   "cell_type": "code",
   "execution_count": 25,
   "id": "dedc48fe",
   "metadata": {},
   "outputs": [
    {
     "data": {
      "text/plain": [
       "array([[0.01234568, 0.01234568, 0.01234568, 0.01234568, 0.01234568,\n",
       "        0.01234568, 0.01234568, 0.01234568, 0.01234568],\n",
       "       [0.01234568, 0.01234568, 0.01234568, 0.01234568, 0.01234568,\n",
       "        0.01234568, 0.01234568, 0.01234568, 0.01234568],\n",
       "       [0.01234568, 0.01234568, 0.01234568, 0.01234568, 0.01234568,\n",
       "        0.01234568, 0.01234568, 0.01234568, 0.01234568],\n",
       "       [0.01234568, 0.01234568, 0.01234568, 0.01234568, 0.01234568,\n",
       "        0.01234568, 0.01234568, 0.01234568, 0.01234568],\n",
       "       [0.01234568, 0.01234568, 0.01234568, 0.01234568, 0.01234568,\n",
       "        0.01234568, 0.01234568, 0.01234568, 0.01234568],\n",
       "       [0.01234568, 0.01234568, 0.01234568, 0.01234568, 0.01234568,\n",
       "        0.01234568, 0.01234568, 0.01234568, 0.01234568],\n",
       "       [0.01234568, 0.01234568, 0.01234568, 0.01234568, 0.01234568,\n",
       "        0.01234568, 0.01234568, 0.01234568, 0.01234568],\n",
       "       [0.01234568, 0.01234568, 0.01234568, 0.01234568, 0.01234568,\n",
       "        0.01234568, 0.01234568, 0.01234568, 0.01234568],\n",
       "       [0.01234568, 0.01234568, 0.01234568, 0.01234568, 0.01234568,\n",
       "        0.01234568, 0.01234568, 0.01234568, 0.01234568]])"
      ]
     },
     "execution_count": 25,
     "metadata": {},
     "output_type": "execute_result"
    }
   ],
   "source": [
    "blur_kernel=np.ones((9,9))*1/81\n",
    "blur_kernel"
   ]
  },
  {
   "cell_type": "code",
   "execution_count": 26,
   "id": "edc6389b",
   "metadata": {},
   "outputs": [],
   "source": [
    "blurr_image=cv2.filter2D(gray_img,-1,blur_kernel)\n",
    "cv2.imshow(\"Self Driving Car!(Blurred)\",blurr_image)\n",
    "cv2.waitKey()\n",
    "cv2.destroyAllWindows()"
   ]
  },
  {
   "cell_type": "code",
   "execution_count": null,
   "id": "0007c118",
   "metadata": {},
   "outputs": [],
   "source": []
  }
 ],
 "metadata": {
  "kernelspec": {
   "display_name": "Python 3 (ipykernel)",
   "language": "python",
   "name": "python3"
  },
  "language_info": {
   "codemirror_mode": {
    "name": "ipython",
    "version": 3
   },
   "file_extension": ".py",
   "mimetype": "text/x-python",
   "name": "python",
   "nbconvert_exporter": "python",
   "pygments_lexer": "ipython3",
   "version": "3.8.12"
  }
 },
 "nbformat": 4,
 "nbformat_minor": 5
}
