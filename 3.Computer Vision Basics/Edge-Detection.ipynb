{
 "cells": [
  {
   "cell_type": "code",
   "execution_count": 27,
   "id": "07a23ee0",
   "metadata": {},
   "outputs": [],
   "source": [
    "import matplotlib.image as mpimg\n",
    "import matplotlib.pyplot as plt\n",
    "import numpy as np\n",
    "import cv2\n",
    "\n",
    "image=cv2.imread(\"Self_Driving_Car.jpg\")\n",
    "\n",
    "cv2.imshow(\"Self Driving Car!\",image)\n",
    "cv2.waitKey()\n",
    "cv2.destroyAllWindows()\n",
    "\n",
    "image.shape\n",
    "\n",
    "#Convert image to grayscale\n",
    "\n",
    "gray_img=cv2.cvtColor(image,cv2.COLOR_BGR2GRAY)\n",
    "cv2.imshow(\"Self Driving Car!(Gray)\",gray_img)\n",
    "cv2.waitKey()\n",
    "cv2.destroyAllWindows()\n",
    "\n",
    "#Sobel Calculations\n",
    "x_sobel=cv2.Sobel(gray_img,cv2.CV_64F,0,1,ksize=7)\n",
    "cv2.imshow('Sobel - X direction',x_sobel)\n",
    "cv2.waitKey()\n",
    "cv2.destroyAllWindows()\n",
    "\n",
    "y_sobel=cv2.Sobel(gray_img,cv2.CV_64F,1,0,ksize=7)\n",
    "cv2.imshow('Sobel - Y direction',y_sobel)\n",
    "cv2.waitKey()\n",
    "cv2.destroyAllWindows()\n"
   ]
  },
  {
   "cell_type": "code",
   "execution_count": 28,
   "id": "8a8b960a",
   "metadata": {},
   "outputs": [],
   "source": [
    "laplacian=cv2.Laplacian(gray_img,cv2.CV_64F)\n",
    "cv2.imshow('Laplacian',laplacian)\n",
    "cv2.waitKey()\n",
    "cv2.destroyAllWindows()"
   ]
  },
  {
   "cell_type": "code",
   "execution_count": 29,
   "id": "6d78ad30",
   "metadata": {},
   "outputs": [],
   "source": [
    "threshold_1=120\n",
    "threshold_2=200\n",
    "\n",
    "canny=cv2.Canny(gray_img,threshold_1,threshold_2)\n",
    "\n",
    "cv2.imshow('Canny',canny)\n",
    "cv2.waitKey()\n",
    "cv2.destroyAllWindows()"
   ]
  },
  {
   "cell_type": "code",
   "execution_count": null,
   "id": "7083150b",
   "metadata": {},
   "outputs": [],
   "source": []
  }
 ],
 "metadata": {
  "kernelspec": {
   "display_name": "Python 3 (ipykernel)",
   "language": "python",
   "name": "python3"
  },
  "language_info": {
   "codemirror_mode": {
    "name": "ipython",
    "version": 3
   },
   "file_extension": ".py",
   "mimetype": "text/x-python",
   "name": "python",
   "nbconvert_exporter": "python",
   "pygments_lexer": "ipython3",
   "version": "3.8.12"
  }
 },
 "nbformat": 4,
 "nbformat_minor": 5
}
