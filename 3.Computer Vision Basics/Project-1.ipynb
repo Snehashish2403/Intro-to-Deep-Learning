{
 "cells": [
  {
   "cell_type": "code",
   "execution_count": 7,
   "id": "d3442011",
   "metadata": {},
   "outputs": [],
   "source": [
    "import matplotlib.image as mpimg\n",
    "import matplotlib.pyplot as plt\n",
    "import numpy as np\n",
    "import cv2\n",
    "\n",
    "image=cv2.imread(\"Self_Driving_Car.jpg\")\n"
   ]
  },
  {
   "cell_type": "code",
   "execution_count": 8,
   "id": "37298900",
   "metadata": {},
   "outputs": [],
   "source": [
    "def LiveCamEdgeDetection_Canny(image_color):\n",
    "    threshold_1=30\n",
    "    threshold_2=80\n",
    "    gray_img=cv2.cvtColor(image_color,cv2.COLOR_BGR2GRAY)\n",
    "    canny=cv2.Canny(gray_img,threshold_1,threshold_2)\n",
    "    \n",
    "    return canny\n"
   ]
  },
  {
   "cell_type": "code",
   "execution_count": 9,
   "id": "ae726d38",
   "metadata": {},
   "outputs": [],
   "source": [
    "#Main video cam function calling\n",
    "cap=cv2.VideoCapture(0)\n",
    "\n",
    "while True:\n",
    "    ret, frame=cap.read() #ret is a boolean to indicate success or failure/ frame is the actual frame\n",
    "    cv2.imshow('Live Edge Detection!',LiveCamEdgeDetection_Canny(frame))\n",
    "    cv2.imshow('Webcam Video',frame)\n",
    "    if cv2.waitKey(1)==13: #Wait for Enter Key\n",
    "        break\n",
    "cap.release()\n",
    "cv2.destroyAllWindows()"
   ]
  },
  {
   "cell_type": "code",
   "execution_count": null,
   "id": "26d2998c",
   "metadata": {},
   "outputs": [],
   "source": []
  }
 ],
 "metadata": {
  "kernelspec": {
   "display_name": "Python 3 (ipykernel)",
   "language": "python",
   "name": "python3"
  },
  "language_info": {
   "codemirror_mode": {
    "name": "ipython",
    "version": 3
   },
   "file_extension": ".py",
   "mimetype": "text/x-python",
   "name": "python",
   "nbconvert_exporter": "python",
   "pygments_lexer": "ipython3",
   "version": "3.8.12"
  }
 },
 "nbformat": 4,
 "nbformat_minor": 5
}
