{
 "cells": [
  {
   "cell_type": "code",
   "execution_count": 2,
   "id": "830761f3",
   "metadata": {},
   "outputs": [],
   "source": [
    "import matplotlib.image as mpimg\n",
    "import matplotlib.pyplot as plt\n",
    "import numpy as np\n",
    "import cv2\n",
    "%matplotlib inline\n",
    "\n",
    "image=cv2.imread(\"Speed_Sign_View_2.jpg\")\n",
    "\n",
    "cv2.imshow(\"Original Image\",image)\n",
    "cv2.waitKey()\n",
    "cv2.destroyAllWindows()\n",
    "\n",
    "height,width=image.shape[:2]\n",
    "\n",
    "w0=int(0)\n",
    "h0=int(0)\n",
    "\n",
    "w1=int(width*0.3)\n",
    "h1=int(height*0.3)\n",
    "\n",
    "image_cropped=image[h0:h1 , w0:w1]\n",
    "\n",
    "cv2.imshow(\"Cropped Image\",image_cropped)\n",
    "cv2.waitKey()\n",
    "cv2.destroyAllWindows()"
   ]
  },
  {
   "cell_type": "code",
   "execution_count": 5,
   "id": "7e5e0126",
   "metadata": {},
   "outputs": [],
   "source": [
    "kernel=np.ones((8,8),np.uint8)\n",
    "image_erosion=cv2.erode(image,kernel,iterations=1)\n",
    "image_dilate=cv2.dilate(image,kernel,iterations=1)\n",
    "\n",
    "cv2.imshow('Input',image)\n",
    "cv2.imshow('Erosion',image_erosion)\n",
    "cv2.imshow('Dilation',image_dilate)\n",
    "\n",
    "cv2.waitKey()\n",
    "cv2.destroyAllWindows()"
   ]
  },
  {
   "cell_type": "code",
   "execution_count": null,
   "id": "1bd6f3bb",
   "metadata": {},
   "outputs": [],
   "source": []
  }
 ],
 "metadata": {
  "kernelspec": {
   "display_name": "Python 3 (ipykernel)",
   "language": "python",
   "name": "python3"
  },
  "language_info": {
   "codemirror_mode": {
    "name": "ipython",
    "version": 3
   },
   "file_extension": ".py",
   "mimetype": "text/x-python",
   "name": "python",
   "nbconvert_exporter": "python",
   "pygments_lexer": "ipython3",
   "version": "3.8.12"
  }
 },
 "nbformat": 4,
 "nbformat_minor": 5
}
