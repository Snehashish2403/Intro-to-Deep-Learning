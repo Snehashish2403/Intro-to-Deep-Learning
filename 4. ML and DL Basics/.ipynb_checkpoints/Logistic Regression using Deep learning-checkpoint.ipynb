{
 "cells": [
  {
   "cell_type": "code",
   "execution_count": 87,
   "id": "756481b2",
   "metadata": {},
   "outputs": [
    {
     "data": {
      "image/png": "[encoded data removed]",
      "text/plain": [
       "<Figure size 288x288 with 1 Axes>"
      ]
     },
     "metadata": {
      "needs_background": "light"
     },
     "output_type": "display_data"
    },
    {
     "name": "stdout",
     "output_type": "stream",
     "text": [
      "[[0.69314718]]\n"
     ]
    }
   ],
   "source": [
    "import numpy as np\n",
    "import matplotlib.pyplot as plt\n",
    "\n",
    "def draw(x1,x2):\n",
    "    ln=plt.plot(x1,x2,'-')\n",
    "    \n",
    "def sigmoid(score):\n",
    "    return 1/(1+np.exp(-score))\n",
    "\n",
    "def calculate_error(line_params,points, y):\n",
    "    m=points.shape[0]\n",
    "    p=sigmoid(points*line_params)\n",
    "    cross_entropy=-(1/m)*(np.log(p).T*y+np.log(1-p).T*(1-y))\n",
    "    return cross_entropy\n",
    "\n",
    "def gradient_descent(line_params,points,y,alpha): #alpha is the learning rate\n",
    "    for i in range(5000):\n",
    "        m=points.shape[0]\n",
    "        p=sigmoid(points*line_params)\n",
    "        grad=points.T*(p-y)*(alpha/m)\n",
    "        line_params=line_params-grad\n",
    "        w1=line_params.item(0)\n",
    "        w2=line_params.item(1)\n",
    "        b=line_params.item(2)\n",
    "        \n",
    "        x1=np.array([points[:,0].min(),points[:,0].max()])\n",
    "        x2=-b/w2+x1*(-w1/w2)\n",
    "    draw(x1,x2)\n",
    "\n",
    "#Preparing the randomized data\n",
    "n_pnts=100\n",
    "np.random.seed(0)\n",
    "bias=np.ones(n_pnts)\n",
    "top_region=np.array([np.random.normal(10,2,n_pnts),np.random.normal(12,2,n_pnts),bias]).T\n",
    "bottom_region=np.array([np.random.normal(5,2,n_pnts),np.random.normal(6,2,n_pnts),bias]).T\n",
    "#nvstack just merges two the two matrices and creates another matrix with the top region coming first and then the bottom region\n",
    "all_points=np.vstack((top_region,bottom_region))\n",
    "\n",
    "\n",
    "line_params=np.matrix(np.zeros(3)).T\n",
    "\n",
    "#linear_combination is basically the result of w1x1+w2x2+b*bias this denotes the score of each point\n",
    "\n",
    "\n",
    "y=np.array([np.zeros(n_pnts),np.ones(n_pnts)]).reshape(n_pnts*2,1)\n",
    "\n",
    "_,ax=plt.subplots(figsize=(4,4))\n",
    "ax.scatter(top_region[:,0],top_region[:,1],color='r')\n",
    "ax.scatter(bottom_region[:,0],bottom_region[:,1],color='b')\n",
    "gradient_descent(line_params,all_points,y,0.06)\n",
    "plt.show()\n",
    "\n",
    "print(calculate_error(line_params,all_points,y))"
   ]
  }
 ],
 "metadata": {
  "kernelspec": {
   "display_name": "Python 3 (ipykernel)",
   "language": "python",
   "name": "python3"
  },
  "language_info": {
   "codemirror_mode": {
    "name": "ipython",
    "version": 3
   },
   "file_extension": ".py",
   "mimetype": "text/x-python",
   "name": "python",
   "nbconvert_exporter": "python",
   "pygments_lexer": "ipython3",
   "version": "3.8.12"
  }
 },
 "nbformat": 4,
 "nbformat_minor": 5
}
