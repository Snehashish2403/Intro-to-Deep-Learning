{
 "cells": [
  {
   "cell_type": "code",
   "execution_count": 3,
   "id": "4c9a394f",
   "metadata": {},
   "outputs": [
    {
     "name": "stdout",
     "output_type": "stream",
     "text": [
      "[2, 12, 36]\n"
     ]
    }
   ],
   "source": [
    "#Using normal python code\n",
    "list_two=list(range(1,4))\n",
    "list_three=list(range(1,4))\n",
    "list_sum=[]\n",
    "\n",
    "for index in range(3):\n",
    "    list_two[index]=list_two[index]**2\n",
    "    list_three[index]=list_three[index]**3\n",
    "    \n",
    "    list_sum.append(list_two[index]+list_three[index])\n",
    "print(list_sum)"
   ]
  },
  {
   "cell_type": "code",
   "execution_count": 6,
   "id": "11f650e5",
   "metadata": {},
   "outputs": [
    {
     "name": "stdout",
     "output_type": "stream",
     "text": [
      "[1 4 9]\n"
     ]
    }
   ],
   "source": [
    "#Using numpy \n",
    "import numpy as np\n",
    "\n",
    "array_two=np.arange(1,4)**2\n",
    "print(array_two)"
   ]
  },
  {
   "cell_type": "code",
   "execution_count": 7,
   "id": "2178ff61",
   "metadata": {},
   "outputs": [
    {
     "name": "stdout",
     "output_type": "stream",
     "text": [
      "[ 1  8 27]\n"
     ]
    }
   ],
   "source": [
    "array_three=np.arange(1,4)**3\n",
    "print(array_three)"
   ]
  },
  {
   "cell_type": "code",
   "execution_count": 8,
   "id": "2126af0e",
   "metadata": {},
   "outputs": [
    {
     "name": "stdout",
     "output_type": "stream",
     "text": [
      "[ 2 12 36]\n"
     ]
    }
   ],
   "source": [
    "print(array_two+array_three)"
   ]
  },
  {
   "cell_type": "code",
   "execution_count": 10,
   "id": "76a7a56b",
   "metadata": {},
   "outputs": [
    {
     "name": "stdout",
     "output_type": "stream",
     "text": [
      "[ 1 16 81]\n"
     ]
    }
   ],
   "source": [
    "print(np.power(np.array([1,2,3]),4))"
   ]
  },
  {
   "cell_type": "code",
   "execution_count": 11,
   "id": "13f0e595",
   "metadata": {},
   "outputs": [
    {
     "name": "stdout",
     "output_type": "stream",
     "text": [
      "[1 4 9]\n"
     ]
    }
   ],
   "source": [
    "print(np.array([1,2,3])**2)"
   ]
  },
  {
   "cell_type": "code",
   "execution_count": 14,
   "id": "67a008f6",
   "metadata": {},
   "outputs": [
    {
     "name": "stdout",
     "output_type": "stream",
     "text": [
      "[0.36787944 0.13533528 0.04978707]\n"
     ]
    }
   ],
   "source": [
    "print(np.exp(np.negative(np.array([1,2,3]))))"
   ]
  },
  {
   "cell_type": "code",
   "execution_count": 15,
   "id": "1b946703",
   "metadata": {},
   "outputs": [],
   "source": [
    "#Sample array\n",
    "sample_array=np.array([1,2,3])"
   ]
  },
  {
   "cell_type": "code",
   "execution_count": 16,
   "id": "28743909",
   "metadata": {},
   "outputs": [
    {
     "name": "stdout",
     "output_type": "stream",
     "text": [
      "[0.84147098 0.90929743 0.14112001]\n"
     ]
    }
   ],
   "source": [
    "print(np.sin(sample_array))"
   ]
  },
  {
   "cell_type": "code",
   "execution_count": 17,
   "id": "f2e11299",
   "metadata": {},
   "outputs": [],
   "source": [
    "#Note: All the above mentioned functions are element by element operations"
   ]
  }
 ],
 "metadata": {
  "kernelspec": {
   "display_name": "Python 3 (ipykernel)",
   "language": "python",
   "name": "python3"
  },
  "language_info": {
   "codemirror_mode": {
    "name": "ipython",
    "version": 3
   },
   "file_extension": ".py",
   "mimetype": "text/x-python",
   "name": "python",
   "nbconvert_exporter": "python",
   "pygments_lexer": "ipython3",
   "version": "3.8.12"
  }
 },
 "nbformat": 4,
 "nbformat_minor": 5
}
